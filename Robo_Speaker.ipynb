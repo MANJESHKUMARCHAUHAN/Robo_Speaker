{
 "cells": [
  {
   "cell_type": "code",
   "execution_count": 3,
   "id": "c67c9f83-24a7-414a-9317-26f2b8b9a6f7",
   "metadata": {},
   "outputs": [
    {
     "name": "stdout",
     "output_type": "stream",
     "text": [
      "Requirement already satisfied: pyttsx3 in c:\\users\\manjesh kumar\\.android\\lib\\site-packages (2.98)\n",
      "Requirement already satisfied: comtypes in c:\\users\\manjesh kumar\\.android\\lib\\site-packages (from pyttsx3) (1.4.10)\n",
      "Requirement already satisfied: pypiwin32 in c:\\users\\manjesh kumar\\.android\\lib\\site-packages (from pyttsx3) (223)\n",
      "Requirement already satisfied: pywin32 in c:\\users\\manjesh kumar\\.android\\lib\\site-packages (from pyttsx3) (308)\n",
      "Note: you may need to restart the kernel to use updated packages.\n"
     ]
    }
   ],
   "source": [
    "pip install pyttsx3"
   ]
  },
  {
   "cell_type": "code",
   "execution_count": 5,
   "id": "568516c1-23f9-4e69-a304-922028f9742d",
   "metadata": {},
   "outputs": [],
   "source": [
    "import pyttsx3\n",
    "import os\n",
    "import time"
   ]
  },
  {
   "cell_type": "code",
   "execution_count": 6,
   "id": "dc014944-8555-446e-abf9-efe90180f3d7",
   "metadata": {},
   "outputs": [],
   "source": [
    "# Initialize the pyttsx3 engine\n",
    "engine = pyttsx3.init()\n",
    "\n",
    "# Set properties (optional)\n",
    "engine.setProperty('rate', 150)     # Speed of speech\n",
    "engine.setProperty('volume', 1.0)   # Volume (0.0 to 1.0)\n",
    "\n",
    "# You can also change voice (Male/Female)\n",
    "voices = engine.getProperty('voices')\n",
    "engine.setProperty('voice', voices[0].id)  # [0] for Male, [1] for Female\n"
   ]
  },
  {
   "cell_type": "code",
   "execution_count": null,
   "id": "70c2186b-4889-485b-964d-50ea1e196253",
   "metadata": {},
   "outputs": [
    {
     "name": "stdout",
     "output_type": "stream",
     "text": [
      "Robot says: Hello! I am your robot assistant.\n"
     ]
    },
    {
     "name": "stdin",
     "output_type": "stream",
     "text": [
      "\n",
      "What should I say? (type 'exit' to quit):  Hi, my name is Manjesh Kumar Chauhan. I’m currently pursuing an MSc in Data Science and hold a Bachelor's degree in Physics, Chemistry, and Mathematics (PCM). I have a strong interest in solving real-world problems using data, and I enjoy building projects that combine machine learning, automation, and insightful analytics.  Over time, I’ve worked on a variety of hands-on projects including:  Movie Recommendation System  Image Segmentation Model  Diwali Sales Analysis  Expense Tracker using Faker & SQL  Used Car Price Trend Analysis with Power BI  Age & Emotion Detection using Voice and Vision  Amazon Automation Tool using Selenium  I’m always curious to learn, open to feedback, and I enjoy turning complex problems into simple, impactful solutions.\n"
     ]
    },
    {
     "name": "stdout",
     "output_type": "stream",
     "text": [
      "Robot says: Hi, my name is Manjesh Kumar Chauhan. I’m currently pursuing an MSc in Data Science and hold a Bachelor's degree in Physics, Chemistry, and Mathematics (PCM). I have a strong interest in solving real-world problems using data, and I enjoy building projects that combine machine learning, automation, and insightful analytics.  Over time, I’ve worked on a variety of hands-on projects including:  Movie Recommendation System  Image Segmentation Model  Diwali Sales Analysis  Expense Tracker using Faker & SQL  Used Car Price Trend Analysis with Power BI  Age & Emotion Detection using Voice and Vision  Amazon Automation Tool using Selenium  I’m always curious to learn, open to feedback, and I enjoy turning complex problems into simple, impactful solutions.\n"
     ]
    }
   ],
   "source": [
    "def speak(text):\n",
    "    print(f\"Robot says: {text}\")\n",
    "    engine.say(text)\n",
    "    engine.runAndWait()\n",
    "\n",
    "def clear_screen():\n",
    "    os.system('cls' if os.name == 'nt' else 'clear')\n",
    "\n",
    "# Main loop\n",
    "def main():\n",
    "    clear_screen()\n",
    "    speak(\"Hello! I am your robot assistant.\")\n",
    "    \n",
    "    while True:\n",
    "        user_input = input(\"\\nWhat should I say? (type 'exit' to quit): \")\n",
    "        \n",
    "        if user_input.lower() in ['exit', 'quit', 'stop']:\n",
    "            speak(\"Goodbye! See you soon.\")\n",
    "            break\n",
    "        \n",
    "        elif user_input.lower() == \"clear\":\n",
    "            clear_screen()\n",
    "            speak(\"Screen cleared.\")\n",
    "        \n",
    "        else:\n",
    "            speak(user_input)\n",
    "\n",
    "if __name__ == \"__main__\":\n",
    "    main()"
   ]
  },
  {
   "cell_type": "code",
   "execution_count": null,
   "id": "b2b545a8-97c6-436e-86ef-a2ea0e5557cd",
   "metadata": {},
   "outputs": [],
   "source": [
    "# "
   ]
  }
 ],
 "metadata": {
  "kernelspec": {
   "display_name": "Python 3 (ipykernel)",
   "language": "python",
   "name": "python3"
  },
  "language_info": {
   "codemirror_mode": {
    "name": "ipython",
    "version": 3
   },
   "file_extension": ".py",
   "mimetype": "text/x-python",
   "name": "python",
   "nbconvert_exporter": "python",
   "pygments_lexer": "ipython3",
   "version": "3.11.5"
  }
 },
 "nbformat": 4,
 "nbformat_minor": 5
}
